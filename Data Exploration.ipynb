{
 "cells": [
  {
   "attachments": {},
   "cell_type": "markdown",
   "metadata": {},
   "source": [
    "## Sample YOLO image inference"
   ]
  },
  {
   "cell_type": "code",
   "execution_count": 1,
   "metadata": {},
   "outputs": [
    {
     "data": {
      "text/plain": [
       "'cuda:0'"
      ]
     },
     "execution_count": 1,
     "metadata": {},
     "output_type": "execute_result"
    }
   ],
   "source": [
    "import torch\n",
    "import os\n",
    "\n",
    "device = \"cuda:0\" if torch.cuda.is_available() else \"cpu\"\n",
    "device"
   ]
  },
  {
   "cell_type": "code",
   "execution_count": 2,
   "metadata": {},
   "outputs": [
    {
     "name": "stderr",
     "output_type": "stream",
     "text": [
      "c:\\Users\\blain\\Documents\\GitHub\\DeerAim\\.venv\\lib\\site-packages\\tqdm\\auto.py:21: TqdmWarning: IProgress not found. Please update jupyter and ipywidgets. See https://ipywidgets.readthedocs.io/en/stable/user_install.html\n",
      "  from .autonotebook import tqdm as notebook_tqdm\n"
     ]
    }
   ],
   "source": [
    "from transformers import DetrImageProcessor, DetrForObjectDetection\n",
    "import torch\n",
    "from PIL import Image\n",
    "import shutil\n",
    "from lat_lon_parser import parse\n",
    "\n",
    "from PIL.ExifTags import TAGS\n",
    "# import exifread\n",
    "from exif import Image as exif\n",
    "\n",
    "from torchvision.utils import draw_bounding_boxes\n",
    "from torchvision.transforms.functional import pil_to_tensor, to_pil_image\n",
    "\n"
   ]
  },
  {
   "cell_type": "code",
   "execution_count": 3,
   "metadata": {},
   "outputs": [],
   "source": [
    "\n",
    "# assign directory\n",
    "directory = 'images'\n",
    "detections_directory = 'images/Detections'\n",
    "detections_original_directory = 'images/Detections/Originals'\n",
    "no_detections_directory = 'images/No Detections'\n",
    "\n",
    "large_animal_list = [19, 20, 21, 23, 24, 25]"
   ]
  },
  {
   "cell_type": "code",
   "execution_count": 4,
   "metadata": {},
   "outputs": [
    {
     "name": "stderr",
     "output_type": "stream",
     "text": [
      "The `max_size` parameter is deprecated and will be removed in v4.26. Please specify in `size['longest_edge'] instead`.\n",
      "Some weights of the model checkpoint at facebook/detr-resnet-50 were not used when initializing DetrForObjectDetection: ['model.backbone.conv_encoder.model.layer1.0.downsample.1.num_batches_tracked', 'model.backbone.conv_encoder.model.layer4.0.downsample.1.num_batches_tracked', 'model.backbone.conv_encoder.model.layer3.0.downsample.1.num_batches_tracked', 'model.backbone.conv_encoder.model.layer2.0.downsample.1.num_batches_tracked']\n",
      "- This IS expected if you are initializing DetrForObjectDetection from the checkpoint of a model trained on another task or with another architecture (e.g. initializing a BertForSequenceClassification model from a BertForPreTraining model).\n",
      "- This IS NOT expected if you are initializing DetrForObjectDetection from the checkpoint of a model that you expect to be exactly identical (initializing a BertForSequenceClassification model from a BertForSequenceClassification model).\n"
     ]
    }
   ],
   "source": [
    "\n",
    "\n",
    "# Create the models for object detection\n",
    "\n",
    "processor = DetrImageProcessor.from_pretrained(\"facebook/detr-resnet-50\")\n",
    "model = DetrForObjectDetection.from_pretrained(\"facebook/detr-resnet-50\")\n",
    "\n",
    "# Create the directories to save images, if needed\n",
    "\n",
    "if (not os.path.exists(detections_directory)):\n",
    "   # Create a new directory because it does not exist\n",
    "   os.makedirs(detections_directory)\n",
    "   print(\"images/Detections is created!\")\n",
    "\n",
    "if (not os.path.exists(detections_original_directory)):\n",
    "   # Create a new directory because it does not exist\n",
    "   os.makedirs(detections_original_directory)\n",
    "   print(\"images/Detections is created!\")\n",
    "\n",
    "if not os.path.exists(no_detections_directory):\n",
    "   # Create a new directory because it does not exist\n",
    "   os.makedirs(no_detections_directory)\n",
    "   print(\"images/No Detections is created!\")\n",
    "\n",
    "\n"
   ]
  },
  {
   "cell_type": "code",
   "execution_count": 91,
   "metadata": {},
   "outputs": [
    {
     "name": "stdout",
     "output_type": "stream",
     "text": [
      "Searching for deer in image20180512_151348.jpg\n",
      "\t\tlatitude      34.24\n",
      "\t\tlongitude     -86.94\n",
      "\t\ttimestamp 2018:05:12 15:13:48\n",
      "\tNo Animal Detected in image20180512_151348.jpg\n",
      "\tMoving image to images/No Detections/20180512_151348.jpg\n",
      "Searching for deer in imagebus.jpg\n",
      "\t\tlatitude      40.41\n",
      "\t\tlongitude      -3.71\n",
      "\t\ttimestamp 2019:03:01 13:06:33\n",
      "\tNo Animal Detected in imagebus.jpg\n",
      "\tMoving image to images/No Detections/bus.jpg\n",
      "Searching for deer in imagePhoto-6.webp\n",
      "\t\timage does not contain metadata\n",
      "\tAnimal Detected in imagePhoto-6.webp\n",
      "\tSaving image to images/Detections/Photo-6.webp\n"
     ]
    }
   ],
   "source": [
    "\n",
    " \n",
    "# iterate over files in that directory\n",
    "for filename in os.listdir(directory):\n",
    "    f = os.path.join(directory, filename)\n",
    "    # checking if it is a file\n",
    "    if os.path.isfile(f):\n",
    "\n",
    "        print(f'Searching for deer in image{filename}')\n",
    "        image = Image.open(f)\n",
    "        \n",
    "        #get the image metadata\n",
    "        imageData = {}\n",
    "        try:\n",
    "            exifdata = exif(f)\n",
    "        except:\n",
    "            exifdata = None\n",
    "            print('\\t\\timage does not contain metadata')\n",
    "        \n",
    "        if exifdata is not None:\n",
    "            imageData['latitude'] = parse(' '.join(map(str, (exifdata['gps_latitude'] + tuple(exifdata['gps_latitude_ref'])))))\n",
    "            imageData['longitude'] = parse(' '.join(map(str, (exifdata['gps_longitude'] + tuple(exifdata['gps_longitude_ref'])))))\n",
    "            imageData['timestamp'] = exifdata['datetime_digitized']\n",
    "\n",
    "            print(f\"\\t\\tlatitude {round(imageData['latitude'],2):10}\")\n",
    "            print(f\"\\t\\tlongitude {round(imageData['longitude'],2):10}\")\n",
    "            print(f\"\\t\\ttimestamp {imageData['timestamp']}\")\n",
    "\n",
    "\n",
    "            \n",
    "        inputs = processor(images=image, return_tensors=\"pt\")\n",
    "        outputs = model(**inputs)\n",
    "\n",
    "        # convert outputs (bounding boxes and class logits) to COCO API\n",
    "        # let's only keep detections with score > 0.9\n",
    "        target_sizes = torch.tensor([image.size[::-1]])\n",
    "        results = processor.post_process_object_detection(outputs, target_sizes=target_sizes, threshold=0.9)[0]\n",
    "\n",
    "        # check if the image contains any interesting detections\n",
    "        if bool(set(large_animal_list).intersection(results['labels'].tolist())):\n",
    "            print(f'\\tAnimal Detected in image{filename}')\n",
    "            for score, label, box in zip(results[\"scores\"], results[\"labels\"], results[\"boxes\"]):\n",
    "                box = [round(i, 2) for i in box.tolist()]\n",
    "                \n",
    "                # print(\n",
    "                #         f\"Detected {model.config.id2label[label.item()]} with confidence \"\n",
    "                #         f\"{round(score.item(), 3)} at location {box}\"\n",
    "                # )\n",
    "\n",
    "            im = to_pil_image(\n",
    "                draw_bounding_boxes(\n",
    "                    pil_to_tensor(image),\n",
    "                    results['boxes'],\n",
    "                    colors=\"red\",\n",
    "                    # labels=[model.config.id2label[x] for x in results['labels'].tolist()],\n",
    "                    labels = ['Animal Detected' for x in results['labels'].tolist()]\n",
    "                            )\n",
    "                        )\n",
    "            \n",
    "            # display(im)\n",
    "\n",
    "            print(f'\\tSaving image to {detections_directory}/{filename}')\n",
    "            im.save(f'{detections_directory}/bbox_{filename}')\n",
    "            # shutil.move(f'{directory}/{filename}',f'{detections_original_directory}/{filename}')\n",
    "        else:\n",
    "            print(f'\\tNo Animal Detected in image{filename}')\n",
    "            print(f'\\tMoving image to {no_detections_directory}/{filename}')\n",
    "            # shutil.move(f'{directory}/{filename}',f'{no_detections_directory}/{filename}')"
   ]
  },
  {
   "cell_type": "code",
   "execution_count": 73,
   "metadata": {},
   "outputs": [],
   "source": [
    "with open('C:/Users/blain/Documents/GitHub/DeerAim/images/20180512_151348.jpg', 'rb') as f:\n",
    "    imageData = {}\n",
    "    exifdata = exif(f)\n",
    "    if exifdata is not None:\n",
    "        # for tag in exifdata.list_all():\n",
    "        #     try:\n",
    "        #         data = exifdata[tag]     \n",
    "        #     except:\n",
    "        #         data = ''\n",
    "        #     # decode bytes\n",
    "        #     # if isinstance(data, bytes):\n",
    "        #     #     data = data.decode()\n",
    "\n",
    "        #     print(f\"{tag:25}: {data}\")\n",
    "\n",
    "        imageData['latitude'] = parse(' '.join(map(str, (exifdata['gps_latitude'] + tuple(exifdata['gps_latitude_ref'])))))\n",
    "        imageData['longitude'] = parse(' '.join(map(str, (exifdata['gps_longitude'] + tuple(exifdata['gps_longitude_ref'])))))\n",
    "        imageData['timestamp'] = exifdata['datetime_digitized']\n"
   ]
  },
  {
   "cell_type": "code",
   "execution_count": null,
   "metadata": {},
   "outputs": [],
   "source": []
  }
 ],
 "metadata": {
  "kernelspec": {
   "display_name": ".venv",
   "language": "python",
   "name": "python3"
  },
  "language_info": {
   "codemirror_mode": {
    "name": "ipython",
    "version": 3
   },
   "file_extension": ".py",
   "mimetype": "text/x-python",
   "name": "python",
   "nbconvert_exporter": "python",
   "pygments_lexer": "ipython3",
   "version": "3.10.9"
  },
  "orig_nbformat": 4
 },
 "nbformat": 4,
 "nbformat_minor": 2
}
